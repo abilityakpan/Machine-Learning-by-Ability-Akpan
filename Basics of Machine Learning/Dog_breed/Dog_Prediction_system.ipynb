{
 "cells": [
  {
   "cell_type": "markdown",
   "id": "cff68f31",
   "metadata": {
    "papermill": {
     "duration": 0.009035,
     "end_time": "2022-12-21T08:45:12.277644",
     "exception": false,
     "start_time": "2022-12-21T08:45:12.268609",
     "status": "completed"
    },
    "tags": []
   },
   "source": [
    "<p style=\"padding:15px;\n",
    "          background-color:#DFBB9D;\n",
    "          margin:0;\n",
    "          color:#FFF5E1;\n",
    "          font-family:newtimeroman;\n",
    "          font-weight: bold;\n",
    "          font-size:250%;\n",
    "          text-align:center;\n",
    "          border-radius: 15px 50px;\n",
    "          overflow:hidden;\n",
    "          font-weight:500\">Analyzing dogs breeds</p>"
   ]
  },
  {
   "cell_type": "markdown",
   "id": "8e768245",
   "metadata": {
    "papermill": {
     "duration": 0.007857,
     "end_time": "2022-12-21T08:45:12.293839",
     "exception": false,
     "start_time": "2022-12-21T08:45:12.285982",
     "status": "completed"
    },
    "tags": []
   },
   "source": [
    "# Introduction\n",
    "\n",
    "<div style=\"float:right;align:left;margin-left:10px;font-family:NewCenturySchoolbook;font-size:20px;\">In this notebook I'd like to analyze the dogs breeds dataset.\n",
    "\n",
    "The code is be hidden, but you can open it by clicking on the \"Show code\" button.</div>"
   ]
  },
  {
   "cell_type": "code",
   "execution_count": 3,
   "id": "790c2e84",
   "metadata": {
    "papermill": {
     "duration": 0.027523,
     "end_time": "2022-12-21T08:45:12.329439",
     "exception": false,
     "start_time": "2022-12-21T08:45:12.301916",
     "status": "completed"
    },
    "tags": []
   },
   "outputs": [
    {
     "data": {
      "text/html": [
       "<script>jQuery(function() {if (jQuery(\"body.notebook_app\").length == 0) { jQuery(\".input_area\").toggle(); jQuery(\".prompt\").toggle();}});</script>"
      ]
     },
     "metadata": {},
     "output_type": "display_data"
    },
    {
     "data": {
      "text/html": [
       "<button onclick=\"jQuery('.input_area').toggle(); jQuery('.prompt').toggle();\">Show code</button>"
      ]
     },
     "metadata": {},
     "output_type": "display_data"
    }
   ],
   "source": [
    "from IPython.display import display\n",
    "from IPython.display import HTML\n",
    "import IPython.core.display as di\n",
    "\n",
    "# This line will hide code by default when the notebook is exported as HTML\n",
    "di.display_html('<script>jQuery(function() {if (jQuery(\"body.notebook_app\").length == 0) { jQuery(\".input_area\").toggle(); jQuery(\".prompt\").toggle();}});</script>', raw=True)\n",
    "\n",
    "# This line will add a button to toggle visibility of code blocks, for use with the HTML export version\n",
    "di.display_html('''<button onclick=\"jQuery('.input_area').toggle(); jQuery('.prompt').toggle();\">Show code</button>''', raw=True)"
   ]
  },
  {
   "cell_type": "code",
   "execution_count": 2,
   "id": "ff6f5d08",
   "metadata": {
    "execution": {
     "iopub.execute_input": "2022-12-21T08:45:12.353091Z",
     "iopub.status.busy": "2022-12-21T08:45:12.352014Z",
     "iopub.status.idle": "2022-12-21T08:45:13.497530Z",
     "shell.execute_reply": "2022-12-21T08:45:13.495804Z"
    },
    "papermill": {
     "duration": 1.163531,
     "end_time": "2022-12-21T08:45:13.501481",
     "exception": false,
     "start_time": "2022-12-21T08:45:12.337950",
     "status": "completed"
    },
    "tags": []
   },
   "outputs": [],
   "source": [
    "import pandas as pd\n",
    "import matplotlib.pyplot as plt\n",
    "import numpy as np\n",
    "import matplotlib.patches as mpatches\n",
    "import seaborn as sns\n",
    "import matplotlib.lines as mlines\n",
    "import warnings\n",
    "warnings.filterwarnings(\"ignore\")\n",
    "from scipy.stats import pearsonr"
   ]
  },
  {
   "cell_type": "code",
   "execution_count": 3,
   "id": "ebe68cb8",
   "metadata": {
    "execution": {
     "iopub.execute_input": "2022-12-21T08:45:13.520657Z",
     "iopub.status.busy": "2022-12-21T08:45:13.520219Z",
     "iopub.status.idle": "2022-12-21T08:45:13.543416Z",
     "shell.execute_reply": "2022-12-21T08:45:13.541962Z"
    },
    "papermill": {
     "duration": 0.035736,
     "end_time": "2022-12-21T08:45:13.546027",
     "exception": false,
     "start_time": "2022-12-21T08:45:13.510291",
     "status": "completed"
    },
    "tags": []
   },
   "outputs": [],
   "source": [
    "all_dogs = pd.read_csv(\"/kaggle/input/dog-breeds/dog_breeds.csv\")"
   ]
  },
  {
   "cell_type": "markdown",
   "id": "35f1d42f",
   "metadata": {
    "papermill": {
     "duration": 0.00813,
     "end_time": "2022-12-21T08:45:13.562711",
     "exception": false,
     "start_time": "2022-12-21T08:45:13.554581",
     "status": "completed"
    },
    "tags": []
   },
   "source": [
    "<div style=\"float:left;margin-left:10px;font-family:NewCenturySchoolbook;font-size:20px;display:block;\">This is what the dataset looks like. </div>"
   ]
  },
  {
   "cell_type": "code",
   "execution_count": 4,
   "id": "b76635d6",
   "metadata": {
    "execution": {
     "iopub.execute_input": "2022-12-21T08:45:13.581195Z",
     "iopub.status.busy": "2022-12-21T08:45:13.580795Z",
     "iopub.status.idle": "2022-12-21T08:45:13.606234Z",
     "shell.execute_reply": "2022-12-21T08:45:13.605054Z"
    },
    "papermill": {
     "duration": 0.037304,
     "end_time": "2022-12-21T08:45:13.608436",
     "exception": false,
     "start_time": "2022-12-21T08:45:13.571132",
     "status": "completed"
    },
    "tags": []
   },
   "outputs": [
    {
     "data": {
      "text/html": [
       "<div>\n",
       "<style scoped>\n",
       "    .dataframe tbody tr th:only-of-type {\n",
       "        vertical-align: middle;\n",
       "    }\n",
       "\n",
       "    .dataframe tbody tr th {\n",
       "        vertical-align: top;\n",
       "    }\n",
       "\n",
       "    .dataframe thead th {\n",
       "        text-align: right;\n",
       "    }\n",
       "</style>\n",
       "<table border=\"1\" class=\"dataframe\">\n",
       "  <thead>\n",
       "    <tr style=\"text-align: right;\">\n",
       "      <th></th>\n",
       "      <th>Breed</th>\n",
       "      <th>Country of Origin</th>\n",
       "      <th>Fur Color</th>\n",
       "      <th>Height (in)</th>\n",
       "      <th>Color of Eyes</th>\n",
       "      <th>Longevity (yrs)</th>\n",
       "      <th>Character Traits</th>\n",
       "      <th>Common Health Problems</th>\n",
       "    </tr>\n",
       "  </thead>\n",
       "  <tbody>\n",
       "    <tr>\n",
       "      <th>0</th>\n",
       "      <td>Labrador Retriever</td>\n",
       "      <td>Canada</td>\n",
       "      <td>Yellow, Black, Chocolate</td>\n",
       "      <td>21-24</td>\n",
       "      <td>Brown</td>\n",
       "      <td>10-12</td>\n",
       "      <td>Loyal, friendly, intelligent, energetic, good-...</td>\n",
       "      <td>Hip dysplasia, obesity, ear infections</td>\n",
       "    </tr>\n",
       "    <tr>\n",
       "      <th>1</th>\n",
       "      <td>German Shepherd</td>\n",
       "      <td>Germany</td>\n",
       "      <td>Black, Tan</td>\n",
       "      <td>22-26</td>\n",
       "      <td>Brown</td>\n",
       "      <td>7-10</td>\n",
       "      <td>Loyal, intelligent, protective, confident, tra...</td>\n",
       "      <td>Hip dysplasia, elbow dysplasia, pancreatitis</td>\n",
       "    </tr>\n",
       "    <tr>\n",
       "      <th>2</th>\n",
       "      <td>Bulldog</td>\n",
       "      <td>England</td>\n",
       "      <td>White, Red</td>\n",
       "      <td>12-16</td>\n",
       "      <td>Brown</td>\n",
       "      <td>8-10</td>\n",
       "      <td>Loyal, calm, gentle, brave</td>\n",
       "      <td>Skin allergies, respiratory issues, obesity</td>\n",
       "    </tr>\n",
       "    <tr>\n",
       "      <th>3</th>\n",
       "      <td>Poodle</td>\n",
       "      <td>France</td>\n",
       "      <td>White, Black, Brown, Apricot</td>\n",
       "      <td>10-15</td>\n",
       "      <td>Brown, Blue</td>\n",
       "      <td>12-15</td>\n",
       "      <td>Intelligent, active, affectionate, hypoallergenic</td>\n",
       "      <td>Hip dysplasia, epilepsy, bladder stones</td>\n",
       "    </tr>\n",
       "    <tr>\n",
       "      <th>4</th>\n",
       "      <td>Beagle</td>\n",
       "      <td>England</td>\n",
       "      <td>White, Tan, Red, Lemon</td>\n",
       "      <td>13-15</td>\n",
       "      <td>Brown</td>\n",
       "      <td>12-15</td>\n",
       "      <td>Curious, friendly, energetic, good-natured</td>\n",
       "      <td>Ear infections, hip dysplasia, epilepsy</td>\n",
       "    </tr>\n",
       "  </tbody>\n",
       "</table>\n",
       "</div>"
      ],
      "text/plain": [
       "                Breed Country of Origin                     Fur Color  \\\n",
       "0  Labrador Retriever            Canada      Yellow, Black, Chocolate   \n",
       "1     German Shepherd           Germany                    Black, Tan   \n",
       "2             Bulldog           England                    White, Red   \n",
       "3              Poodle            France  White, Black, Brown, Apricot   \n",
       "4              Beagle           England        White, Tan, Red, Lemon   \n",
       "\n",
       "  Height (in) Color of Eyes Longevity (yrs)  \\\n",
       "0       21-24         Brown           10-12   \n",
       "1       22-26         Brown            7-10   \n",
       "2       12-16         Brown            8-10   \n",
       "3       10-15   Brown, Blue           12-15   \n",
       "4       13-15         Brown           12-15   \n",
       "\n",
       "                                    Character Traits  \\\n",
       "0  Loyal, friendly, intelligent, energetic, good-...   \n",
       "1  Loyal, intelligent, protective, confident, tra...   \n",
       "2                         Loyal, calm, gentle, brave   \n",
       "3  Intelligent, active, affectionate, hypoallergenic   \n",
       "4         Curious, friendly, energetic, good-natured   \n",
       "\n",
       "                         Common Health Problems  \n",
       "0        Hip dysplasia, obesity, ear infections  \n",
       "1  Hip dysplasia, elbow dysplasia, pancreatitis  \n",
       "2   Skin allergies, respiratory issues, obesity  \n",
       "3       Hip dysplasia, epilepsy, bladder stones  \n",
       "4       Ear infections, hip dysplasia, epilepsy  "
      ]
     },
     "execution_count": 4,
     "metadata": {},
     "output_type": "execute_result"
    }
   ],
   "source": [
    "all_dogs.head()"
   ]
  },
  {
   "cell_type": "markdown",
   "id": "8760d779",
   "metadata": {
    "papermill": {
     "duration": 0.008825,
     "end_time": "2022-12-21T08:45:13.626164",
     "exception": false,
     "start_time": "2022-12-21T08:45:13.617339",
     "status": "completed"
    },
    "tags": []
   },
   "source": [
    "<div style=\"float:right; margin-right:30px;max-width:40%;\">\n",
    "        <img src=\"https://media.tenor.com/8M_dytzny2QAAAAC/my-puppies.gif\">\n",
    "    </div>\n",
    "    \n",
    "<div style=\"float:left;align:center;margin-right:10px;font-family:NewCenturySchoolbook;font-size:20px;display:inline-block;\">\n",
    "To start with, I'd like to split these two<br>columns:<br>Character Traits and Common Health <br>Problems <br>so that I could easier sort different breeds <br>based on their specific traits.\n",
    "    </div>"
   ]
  },
  {
   "cell_type": "code",
   "execution_count": 5,
   "id": "54ef9bf4",
   "metadata": {
    "execution": {
     "iopub.execute_input": "2022-12-21T08:45:13.647414Z",
     "iopub.status.busy": "2022-12-21T08:45:13.646759Z",
     "iopub.status.idle": "2022-12-21T08:45:13.658207Z",
     "shell.execute_reply": "2022-12-21T08:45:13.656899Z"
    },
    "papermill": {
     "duration": 0.024483,
     "end_time": "2022-12-21T08:45:13.660561",
     "exception": false,
     "start_time": "2022-12-21T08:45:13.636078",
     "status": "completed"
    },
    "tags": []
   },
   "outputs": [],
   "source": [
    "array = all_dogs[\"Common Health Problems\"].unique()"
   ]
  },
  {
   "cell_type": "markdown",
   "id": "7a297f58",
   "metadata": {
    "papermill": {
     "duration": 0.0082,
     "end_time": "2022-12-21T08:45:13.677220",
     "exception": false,
     "start_time": "2022-12-21T08:45:13.669020",
     "status": "completed"
    },
    "tags": []
   },
   "source": [
    "<div style=\"float:left;align:left;font-family:NewCenturySchoolbook;font-size:20px;\">These are the steps I would need to take:\n",
    "\n",
    "<ul>1. extract unique values from the column</ul>\n",
    "<ul>2. split them into separate values</ul>\n",
    "<ul>3. set all the values into lower case</ul>\n",
    "<ul>4. create columns which each of the unique values</ul>\n",
    "<ul>5. add a 1 if the value exists in the original column or 0 if it doesn't</ul>\n",
    "<ul>6. delete the original column</ul>\n",
    "\n",
    "I will do the same steps for both the columns</div>"
   ]
  },
  {
   "cell_type": "markdown",
   "id": "a63725da",
   "metadata": {
    "papermill": {
     "duration": 0.008244,
     "end_time": "2022-12-21T08:45:13.694126",
     "exception": false,
     "start_time": "2022-12-21T08:45:13.685882",
     "status": "completed"
    },
    "tags": []
   },
   "source": [
    "<div style=\"float:left;align:left;font-family:NewCenturySchoolbook;font-size:20px;\">Extracting unique values</div>"
   ]
  },
  {
   "cell_type": "code",
   "execution_count": 6,
   "id": "daa53b7d",
   "metadata": {
    "execution": {
     "iopub.execute_input": "2022-12-21T08:45:13.712904Z",
     "iopub.status.busy": "2022-12-21T08:45:13.712521Z",
     "iopub.status.idle": "2022-12-21T08:45:13.719025Z",
     "shell.execute_reply": "2022-12-21T08:45:13.718010Z"
    },
    "papermill": {
     "duration": 0.01912,
     "end_time": "2022-12-21T08:45:13.721834",
     "exception": false,
     "start_time": "2022-12-21T08:45:13.702714",
     "status": "completed"
    },
    "tags": []
   },
   "outputs": [
    {
     "name": "stdout",
     "output_type": "stream",
     "text": [
      "{'eye issues', 'pancreatitis', 'Intervertebral disc disease', 'bladder stones', 'Skin allergies', 'hereditary myopathy', 'skin allergies', 'heart conditions', 'respiratory issues', 'Eye problems', 'eye problems', 'elbow dysplasia', 'Breathing problems', 'ear infections', 'Dental problems', 'obesity', 'cancer', 'epilepsy', 'diabetes', 'Hip dysplasia', 'Ear infections', 'hip dysplasia'}\n"
     ]
    }
   ],
   "source": [
    "unique_values = set()\n",
    "\n",
    "for value in array:\n",
    "    values = value.split(', ')\n",
    "    for v in values:\n",
    "        unique_values.add(v)\n",
    "\n",
    "print(unique_values)"
   ]
  },
  {
   "cell_type": "markdown",
   "id": "2b27a042",
   "metadata": {
    "papermill": {
     "duration": 0.008633,
     "end_time": "2022-12-21T08:45:13.739988",
     "exception": false,
     "start_time": "2022-12-21T08:45:13.731355",
     "status": "completed"
    },
    "tags": []
   },
   "source": [
    "<div style=\"float:left;align:left;font-family:NewCenturySchoolbook;font-size:20px;\">Turning them into lower case values </div>"
   ]
  },
  {
   "cell_type": "code",
   "execution_count": 7,
   "id": "d01f39f0",
   "metadata": {
    "execution": {
     "iopub.execute_input": "2022-12-21T08:45:13.759397Z",
     "iopub.status.busy": "2022-12-21T08:45:13.758466Z",
     "iopub.status.idle": "2022-12-21T08:45:13.764836Z",
     "shell.execute_reply": "2022-12-21T08:45:13.763743Z"
    },
    "papermill": {
     "duration": 0.018133,
     "end_time": "2022-12-21T08:45:13.766725",
     "exception": false,
     "start_time": "2022-12-21T08:45:13.748592",
     "status": "completed"
    },
    "tags": []
   },
   "outputs": [
    {
     "name": "stdout",
     "output_type": "stream",
     "text": [
      "{'bladder stones', 'dental problems', 'breathing problems', 'eye issues', 'ear infections', 'hip dysplasia', 'cancer', 'epilepsy', 'hereditary myopathy', 'skin allergies', 'eye problems', 'diabetes', 'pancreatitis', 'heart conditions', 'respiratory issues', 'elbow dysplasia', 'intervertebral disc disease', 'obesity'}\n"
     ]
    }
   ],
   "source": [
    "lowercase_values = set()\n",
    "\n",
    "for value in unique_values:\n",
    "    lowercase_values.add(value.lower())\n",
    "\n",
    "print(lowercase_values)"
   ]
  },
  {
   "cell_type": "markdown",
   "id": "1c58d451",
   "metadata": {
    "papermill": {
     "duration": 0.008386,
     "end_time": "2022-12-21T08:45:13.783880",
     "exception": false,
     "start_time": "2022-12-21T08:45:13.775494",
     "status": "completed"
    },
    "tags": []
   },
   "source": [
    "<div style=\"float:left;align:left;font-family:NewCenturySchoolbook;font-size:20px;\"> Creating new columns and filling it with the values</div>"
   ]
  },
  {
   "cell_type": "code",
   "execution_count": 8,
   "id": "3221cedf",
   "metadata": {
    "execution": {
     "iopub.execute_input": "2022-12-21T08:45:13.803240Z",
     "iopub.status.busy": "2022-12-21T08:45:13.802859Z",
     "iopub.status.idle": "2022-12-21T08:45:13.809794Z",
     "shell.execute_reply": "2022-12-21T08:45:13.807925Z"
    },
    "papermill": {
     "duration": 0.019813,
     "end_time": "2022-12-21T08:45:13.812393",
     "exception": false,
     "start_time": "2022-12-21T08:45:13.792580",
     "status": "completed"
    },
    "tags": []
   },
   "outputs": [],
   "source": [
    "all_dogs['Common Health Problems'] = all_dogs['Common Health Problems'].str.lower()"
   ]
  },
  {
   "cell_type": "code",
   "execution_count": 9,
   "id": "af83c8b2",
   "metadata": {
    "execution": {
     "iopub.execute_input": "2022-12-21T08:45:13.832036Z",
     "iopub.status.busy": "2022-12-21T08:45:13.831683Z",
     "iopub.status.idle": "2022-12-21T08:45:13.849463Z",
     "shell.execute_reply": "2022-12-21T08:45:13.847604Z"
    },
    "papermill": {
     "duration": 0.031292,
     "end_time": "2022-12-21T08:45:13.852660",
     "exception": false,
     "start_time": "2022-12-21T08:45:13.821368",
     "status": "completed"
    },
    "tags": []
   },
   "outputs": [],
   "source": [
    "for value in lowercase_values:\n",
    "    all_dogs[value] = all_dogs[\"Common Health Problems\"].apply(lambda x: 1 if value in x else 0)\n"
   ]
  },
  {
   "cell_type": "code",
   "execution_count": 10,
   "id": "1ad6fcc0",
   "metadata": {
    "execution": {
     "iopub.execute_input": "2022-12-21T08:45:13.872945Z",
     "iopub.status.busy": "2022-12-21T08:45:13.872542Z",
     "iopub.status.idle": "2022-12-21T08:45:13.882251Z",
     "shell.execute_reply": "2022-12-21T08:45:13.880934Z"
    },
    "papermill": {
     "duration": 0.022758,
     "end_time": "2022-12-21T08:45:13.884575",
     "exception": false,
     "start_time": "2022-12-21T08:45:13.861817",
     "status": "completed"
    },
    "tags": []
   },
   "outputs": [],
   "source": [
    "all_dogs = all_dogs.drop(columns=[\"Common Health Problems\"])"
   ]
  },
  {
   "cell_type": "code",
   "execution_count": 11,
   "id": "87e27ba5",
   "metadata": {
    "execution": {
     "iopub.execute_input": "2022-12-21T08:45:13.903903Z",
     "iopub.status.busy": "2022-12-21T08:45:13.903432Z",
     "iopub.status.idle": "2022-12-21T08:45:13.910886Z",
     "shell.execute_reply": "2022-12-21T08:45:13.909420Z"
    },
    "papermill": {
     "duration": 0.020268,
     "end_time": "2022-12-21T08:45:13.913546",
     "exception": false,
     "start_time": "2022-12-21T08:45:13.893278",
     "status": "completed"
    },
    "tags": []
   },
   "outputs": [],
   "source": [
    "character = all_dogs[\"Character Traits\"].unique()\n"
   ]
  },
  {
   "cell_type": "code",
   "execution_count": 12,
   "id": "8c8dd1b5",
   "metadata": {
    "execution": {
     "iopub.execute_input": "2022-12-21T08:45:13.933399Z",
     "iopub.status.busy": "2022-12-21T08:45:13.932943Z",
     "iopub.status.idle": "2022-12-21T08:45:13.939208Z",
     "shell.execute_reply": "2022-12-21T08:45:13.938029Z"
    },
    "papermill": {
     "duration": 0.018669,
     "end_time": "2022-12-21T08:45:13.941358",
     "exception": false,
     "start_time": "2022-12-21T08:45:13.922689",
     "status": "completed"
    },
    "tags": []
   },
   "outputs": [],
   "source": [
    "unique_char = set()\n",
    "\n",
    "for char in character:\n",
    "    chars = char.split(', ')\n",
    "    for c in chars:\n",
    "        unique_char.add(c)"
   ]
  },
  {
   "cell_type": "code",
   "execution_count": 13,
   "id": "8fb7bb14",
   "metadata": {
    "execution": {
     "iopub.execute_input": "2022-12-21T08:45:13.961266Z",
     "iopub.status.busy": "2022-12-21T08:45:13.960869Z",
     "iopub.status.idle": "2022-12-21T08:45:13.966447Z",
     "shell.execute_reply": "2022-12-21T08:45:13.964927Z"
    },
    "papermill": {
     "duration": 0.018546,
     "end_time": "2022-12-21T08:45:13.968808",
     "exception": false,
     "start_time": "2022-12-21T08:45:13.950262",
     "status": "completed"
    },
    "tags": []
   },
   "outputs": [],
   "source": [
    "lower_char = set()\n",
    "\n",
    "for char in unique_char:\n",
    "    lower_char.add(char.lower())"
   ]
  },
  {
   "cell_type": "code",
   "execution_count": 14,
   "id": "f56a8743",
   "metadata": {
    "execution": {
     "iopub.execute_input": "2022-12-21T08:45:13.988526Z",
     "iopub.status.busy": "2022-12-21T08:45:13.988108Z",
     "iopub.status.idle": "2022-12-21T08:45:13.994547Z",
     "shell.execute_reply": "2022-12-21T08:45:13.993084Z"
    },
    "papermill": {
     "duration": 0.019216,
     "end_time": "2022-12-21T08:45:13.996708",
     "exception": false,
     "start_time": "2022-12-21T08:45:13.977492",
     "status": "completed"
    },
    "tags": []
   },
   "outputs": [],
   "source": [
    "all_dogs[\"Character Traits\"] = all_dogs[\"Character Traits\"].str.lower()"
   ]
  },
  {
   "cell_type": "code",
   "execution_count": 15,
   "id": "5f2e20b5",
   "metadata": {
    "execution": {
     "iopub.execute_input": "2022-12-21T08:45:14.016243Z",
     "iopub.status.busy": "2022-12-21T08:45:14.015847Z",
     "iopub.status.idle": "2022-12-21T08:45:14.038223Z",
     "shell.execute_reply": "2022-12-21T08:45:14.036465Z"
    },
    "papermill": {
     "duration": 0.035088,
     "end_time": "2022-12-21T08:45:14.040697",
     "exception": false,
     "start_time": "2022-12-21T08:45:14.005609",
     "status": "completed"
    },
    "tags": []
   },
   "outputs": [],
   "source": [
    "for value in lower_char:\n",
    "    all_dogs[value] = all_dogs[\"Character Traits\"].apply(lambda x: 1 if value in x else 0)"
   ]
  },
  {
   "cell_type": "markdown",
   "id": "97d14969",
   "metadata": {
    "papermill": {
     "duration": 0.008526,
     "end_time": "2022-12-21T08:45:14.058059",
     "exception": false,
     "start_time": "2022-12-21T08:45:14.049533",
     "status": "completed"
    },
    "tags": []
   },
   "source": [
    "<div style=\"float:left;align:left;font-family:NewCenturySchoolbook;font-size:20px;\">Checking the result</div>"
   ]
  },
  {
   "cell_type": "code",
   "execution_count": 16,
   "id": "cb93472d",
   "metadata": {
    "execution": {
     "iopub.execute_input": "2022-12-21T08:45:14.077554Z",
     "iopub.status.busy": "2022-12-21T08:45:14.077150Z",
     "iopub.status.idle": "2022-12-21T08:45:14.102400Z",
     "shell.execute_reply": "2022-12-21T08:45:14.100806Z"
    },
    "papermill": {
     "duration": 0.037907,
     "end_time": "2022-12-21T08:45:14.104922",
     "exception": false,
     "start_time": "2022-12-21T08:45:14.067015",
     "status": "completed"
    },
    "tags": []
   },
   "outputs": [
    {
     "data": {
      "text/html": [
       "<div>\n",
       "<style scoped>\n",
       "    .dataframe tbody tr th:only-of-type {\n",
       "        vertical-align: middle;\n",
       "    }\n",
       "\n",
       "    .dataframe tbody tr th {\n",
       "        vertical-align: top;\n",
       "    }\n",
       "\n",
       "    .dataframe thead th {\n",
       "        text-align: right;\n",
       "    }\n",
       "</style>\n",
       "<table border=\"1\" class=\"dataframe\">\n",
       "  <thead>\n",
       "    <tr style=\"text-align: right;\">\n",
       "      <th></th>\n",
       "      <th>Breed</th>\n",
       "      <th>Country of Origin</th>\n",
       "      <th>Fur Color</th>\n",
       "      <th>Height (in)</th>\n",
       "      <th>Color of Eyes</th>\n",
       "      <th>Longevity (yrs)</th>\n",
       "      <th>bladder stones</th>\n",
       "      <th>dental problems</th>\n",
       "      <th>breathing problems</th>\n",
       "      <th>eye issues</th>\n",
       "      <th>...</th>\n",
       "      <th>sensitive</th>\n",
       "      <th>energetic</th>\n",
       "      <th>charming</th>\n",
       "      <th>strong</th>\n",
       "      <th>athletic</th>\n",
       "      <th>kind</th>\n",
       "      <th>curious</th>\n",
       "      <th>calm</th>\n",
       "      <th>loyal</th>\n",
       "      <th>confident</th>\n",
       "    </tr>\n",
       "  </thead>\n",
       "  <tbody>\n",
       "    <tr>\n",
       "      <th>0</th>\n",
       "      <td>Labrador Retriever</td>\n",
       "      <td>Canada</td>\n",
       "      <td>Yellow, Black, Chocolate</td>\n",
       "      <td>21-24</td>\n",
       "      <td>Brown</td>\n",
       "      <td>10-12</td>\n",
       "      <td>0</td>\n",
       "      <td>0</td>\n",
       "      <td>0</td>\n",
       "      <td>0</td>\n",
       "      <td>...</td>\n",
       "      <td>0</td>\n",
       "      <td>1</td>\n",
       "      <td>0</td>\n",
       "      <td>0</td>\n",
       "      <td>0</td>\n",
       "      <td>0</td>\n",
       "      <td>0</td>\n",
       "      <td>0</td>\n",
       "      <td>1</td>\n",
       "      <td>0</td>\n",
       "    </tr>\n",
       "    <tr>\n",
       "      <th>1</th>\n",
       "      <td>German Shepherd</td>\n",
       "      <td>Germany</td>\n",
       "      <td>Black, Tan</td>\n",
       "      <td>22-26</td>\n",
       "      <td>Brown</td>\n",
       "      <td>7-10</td>\n",
       "      <td>0</td>\n",
       "      <td>0</td>\n",
       "      <td>0</td>\n",
       "      <td>0</td>\n",
       "      <td>...</td>\n",
       "      <td>0</td>\n",
       "      <td>0</td>\n",
       "      <td>0</td>\n",
       "      <td>0</td>\n",
       "      <td>0</td>\n",
       "      <td>0</td>\n",
       "      <td>0</td>\n",
       "      <td>0</td>\n",
       "      <td>1</td>\n",
       "      <td>1</td>\n",
       "    </tr>\n",
       "    <tr>\n",
       "      <th>2</th>\n",
       "      <td>Bulldog</td>\n",
       "      <td>England</td>\n",
       "      <td>White, Red</td>\n",
       "      <td>12-16</td>\n",
       "      <td>Brown</td>\n",
       "      <td>8-10</td>\n",
       "      <td>0</td>\n",
       "      <td>0</td>\n",
       "      <td>0</td>\n",
       "      <td>0</td>\n",
       "      <td>...</td>\n",
       "      <td>0</td>\n",
       "      <td>0</td>\n",
       "      <td>0</td>\n",
       "      <td>0</td>\n",
       "      <td>0</td>\n",
       "      <td>0</td>\n",
       "      <td>0</td>\n",
       "      <td>1</td>\n",
       "      <td>1</td>\n",
       "      <td>0</td>\n",
       "    </tr>\n",
       "    <tr>\n",
       "      <th>3</th>\n",
       "      <td>Poodle</td>\n",
       "      <td>France</td>\n",
       "      <td>White, Black, Brown, Apricot</td>\n",
       "      <td>10-15</td>\n",
       "      <td>Brown, Blue</td>\n",
       "      <td>12-15</td>\n",
       "      <td>1</td>\n",
       "      <td>0</td>\n",
       "      <td>0</td>\n",
       "      <td>0</td>\n",
       "      <td>...</td>\n",
       "      <td>0</td>\n",
       "      <td>0</td>\n",
       "      <td>0</td>\n",
       "      <td>0</td>\n",
       "      <td>0</td>\n",
       "      <td>0</td>\n",
       "      <td>0</td>\n",
       "      <td>0</td>\n",
       "      <td>0</td>\n",
       "      <td>0</td>\n",
       "    </tr>\n",
       "    <tr>\n",
       "      <th>4</th>\n",
       "      <td>Beagle</td>\n",
       "      <td>England</td>\n",
       "      <td>White, Tan, Red, Lemon</td>\n",
       "      <td>13-15</td>\n",
       "      <td>Brown</td>\n",
       "      <td>12-15</td>\n",
       "      <td>0</td>\n",
       "      <td>0</td>\n",
       "      <td>0</td>\n",
       "      <td>0</td>\n",
       "      <td>...</td>\n",
       "      <td>0</td>\n",
       "      <td>1</td>\n",
       "      <td>0</td>\n",
       "      <td>0</td>\n",
       "      <td>0</td>\n",
       "      <td>0</td>\n",
       "      <td>1</td>\n",
       "      <td>0</td>\n",
       "      <td>0</td>\n",
       "      <td>0</td>\n",
       "    </tr>\n",
       "    <tr>\n",
       "      <th>...</th>\n",
       "      <td>...</td>\n",
       "      <td>...</td>\n",
       "      <td>...</td>\n",
       "      <td>...</td>\n",
       "      <td>...</td>\n",
       "      <td>...</td>\n",
       "      <td>...</td>\n",
       "      <td>...</td>\n",
       "      <td>...</td>\n",
       "      <td>...</td>\n",
       "      <td>...</td>\n",
       "      <td>...</td>\n",
       "      <td>...</td>\n",
       "      <td>...</td>\n",
       "      <td>...</td>\n",
       "      <td>...</td>\n",
       "      <td>...</td>\n",
       "      <td>...</td>\n",
       "      <td>...</td>\n",
       "      <td>...</td>\n",
       "      <td>...</td>\n",
       "    </tr>\n",
       "    <tr>\n",
       "      <th>112</th>\n",
       "      <td>Catahoula Leopard Dog</td>\n",
       "      <td>United States</td>\n",
       "      <td>Merle, Black</td>\n",
       "      <td>20-26</td>\n",
       "      <td>Brown</td>\n",
       "      <td>12-14</td>\n",
       "      <td>0</td>\n",
       "      <td>1</td>\n",
       "      <td>0</td>\n",
       "      <td>1</td>\n",
       "      <td>...</td>\n",
       "      <td>0</td>\n",
       "      <td>1</td>\n",
       "      <td>0</td>\n",
       "      <td>0</td>\n",
       "      <td>0</td>\n",
       "      <td>0</td>\n",
       "      <td>0</td>\n",
       "      <td>0</td>\n",
       "      <td>1</td>\n",
       "      <td>0</td>\n",
       "    </tr>\n",
       "    <tr>\n",
       "      <th>113</th>\n",
       "      <td>Cocker Spaniel</td>\n",
       "      <td>England</td>\n",
       "      <td>Black, Brown</td>\n",
       "      <td>14-15</td>\n",
       "      <td>Brown</td>\n",
       "      <td>12-15</td>\n",
       "      <td>0</td>\n",
       "      <td>1</td>\n",
       "      <td>0</td>\n",
       "      <td>1</td>\n",
       "      <td>...</td>\n",
       "      <td>0</td>\n",
       "      <td>1</td>\n",
       "      <td>0</td>\n",
       "      <td>0</td>\n",
       "      <td>0</td>\n",
       "      <td>0</td>\n",
       "      <td>0</td>\n",
       "      <td>0</td>\n",
       "      <td>0</td>\n",
       "      <td>0</td>\n",
       "    </tr>\n",
       "    <tr>\n",
       "      <th>114</th>\n",
       "      <td>Miniature Shiba Inu</td>\n",
       "      <td>Japan</td>\n",
       "      <td>Red, Sesame</td>\n",
       "      <td>13-16</td>\n",
       "      <td>Brown</td>\n",
       "      <td>12-15</td>\n",
       "      <td>0</td>\n",
       "      <td>1</td>\n",
       "      <td>0</td>\n",
       "      <td>1</td>\n",
       "      <td>...</td>\n",
       "      <td>0</td>\n",
       "      <td>1</td>\n",
       "      <td>0</td>\n",
       "      <td>0</td>\n",
       "      <td>0</td>\n",
       "      <td>0</td>\n",
       "      <td>0</td>\n",
       "      <td>0</td>\n",
       "      <td>0</td>\n",
       "      <td>0</td>\n",
       "    </tr>\n",
       "    <tr>\n",
       "      <th>115</th>\n",
       "      <td>Belgian Tervuren</td>\n",
       "      <td>Belgium</td>\n",
       "      <td>Fawn</td>\n",
       "      <td>22-26</td>\n",
       "      <td>Brown</td>\n",
       "      <td>12-14</td>\n",
       "      <td>0</td>\n",
       "      <td>1</td>\n",
       "      <td>0</td>\n",
       "      <td>1</td>\n",
       "      <td>...</td>\n",
       "      <td>0</td>\n",
       "      <td>1</td>\n",
       "      <td>0</td>\n",
       "      <td>0</td>\n",
       "      <td>0</td>\n",
       "      <td>0</td>\n",
       "      <td>0</td>\n",
       "      <td>0</td>\n",
       "      <td>1</td>\n",
       "      <td>0</td>\n",
       "    </tr>\n",
       "    <tr>\n",
       "      <th>116</th>\n",
       "      <td>Pharaoh Hound</td>\n",
       "      <td>Malta</td>\n",
       "      <td>Red</td>\n",
       "      <td>21-25</td>\n",
       "      <td>Brown</td>\n",
       "      <td>12-14</td>\n",
       "      <td>0</td>\n",
       "      <td>1</td>\n",
       "      <td>0</td>\n",
       "      <td>1</td>\n",
       "      <td>...</td>\n",
       "      <td>0</td>\n",
       "      <td>1</td>\n",
       "      <td>0</td>\n",
       "      <td>0</td>\n",
       "      <td>0</td>\n",
       "      <td>0</td>\n",
       "      <td>0</td>\n",
       "      <td>0</td>\n",
       "      <td>1</td>\n",
       "      <td>0</td>\n",
       "    </tr>\n",
       "  </tbody>\n",
       "</table>\n",
       "<p>117 rows × 48 columns</p>\n",
       "</div>"
      ],
      "text/plain": [
       "                     Breed Country of Origin                     Fur Color  \\\n",
       "0       Labrador Retriever            Canada      Yellow, Black, Chocolate   \n",
       "1          German Shepherd           Germany                    Black, Tan   \n",
       "2                  Bulldog           England                    White, Red   \n",
       "3                   Poodle            France  White, Black, Brown, Apricot   \n",
       "4                   Beagle           England        White, Tan, Red, Lemon   \n",
       "..                     ...               ...                           ...   \n",
       "112  Catahoula Leopard Dog     United States                  Merle, Black   \n",
       "113         Cocker Spaniel           England                  Black, Brown   \n",
       "114    Miniature Shiba Inu             Japan                   Red, Sesame   \n",
       "115       Belgian Tervuren           Belgium                          Fawn   \n",
       "116          Pharaoh Hound             Malta                           Red   \n",
       "\n",
       "    Height (in) Color of Eyes Longevity (yrs)  bladder stones  \\\n",
       "0         21-24         Brown           10-12               0   \n",
       "1         22-26         Brown            7-10               0   \n",
       "2         12-16         Brown            8-10               0   \n",
       "3         10-15   Brown, Blue           12-15               1   \n",
       "4         13-15         Brown           12-15               0   \n",
       "..          ...           ...             ...             ...   \n",
       "112       20-26         Brown           12-14               0   \n",
       "113       14-15         Brown           12-15               0   \n",
       "114       13-16         Brown           12-15               0   \n",
       "115       22-26         Brown           12-14               0   \n",
       "116       21-25         Brown           12-14               0   \n",
       "\n",
       "     dental problems  breathing problems  eye issues  ...  sensitive  \\\n",
       "0                  0                   0           0  ...          0   \n",
       "1                  0                   0           0  ...          0   \n",
       "2                  0                   0           0  ...          0   \n",
       "3                  0                   0           0  ...          0   \n",
       "4                  0                   0           0  ...          0   \n",
       "..               ...                 ...         ...  ...        ...   \n",
       "112                1                   0           1  ...          0   \n",
       "113                1                   0           1  ...          0   \n",
       "114                1                   0           1  ...          0   \n",
       "115                1                   0           1  ...          0   \n",
       "116                1                   0           1  ...          0   \n",
       "\n",
       "     energetic  charming  strong  athletic  kind  curious  calm  loyal  \\\n",
       "0            1         0       0         0     0        0     0      1   \n",
       "1            0         0       0         0     0        0     0      1   \n",
       "2            0         0       0         0     0        0     1      1   \n",
       "3            0         0       0         0     0        0     0      0   \n",
       "4            1         0       0         0     0        1     0      0   \n",
       "..         ...       ...     ...       ...   ...      ...   ...    ...   \n",
       "112          1         0       0         0     0        0     0      1   \n",
       "113          1         0       0         0     0        0     0      0   \n",
       "114          1         0       0         0     0        0     0      0   \n",
       "115          1         0       0         0     0        0     0      1   \n",
       "116          1         0       0         0     0        0     0      1   \n",
       "\n",
       "     confident  \n",
       "0            0  \n",
       "1            1  \n",
       "2            0  \n",
       "3            0  \n",
       "4            0  \n",
       "..         ...  \n",
       "112          0  \n",
       "113          0  \n",
       "114          0  \n",
       "115          0  \n",
       "116          0  \n",
       "\n",
       "[117 rows x 48 columns]"
      ]
     },
     "execution_count": 16,
     "metadata": {},
     "output_type": "execute_result"
    }
   ],
   "source": [
    "all_dogs = all_dogs.drop(columns = [\"Character Traits\"])\n",
    "all_dogs"
   ]
  },
  {
   "cell_type": "markdown",
   "id": "e8edc2c5",
   "metadata": {
    "papermill": {
     "duration": 0.008991,
     "end_time": "2022-12-21T08:45:14.123369",
     "exception": false,
     "start_time": "2022-12-21T08:45:14.114378",
     "status": "completed"
    },
    "tags": []
   },
   "source": [
    "# Filtering"
   ]
  },
  {
   "cell_type": "markdown",
   "id": "d7b9186f",
   "metadata": {
    "papermill": {
     "duration": 0.009003,
     "end_time": "2022-12-21T08:45:14.141423",
     "exception": false,
     "start_time": "2022-12-21T08:45:14.132420",
     "status": "completed"
    },
    "tags": []
   },
   "source": [
    "<div style=\"float:left;align:center;margin-right:10px;font-family:NewCenturySchoolbook;font-size:20px;display:inline-block;\">Now we can easily filter the dataframe for character traits and health issues</div>"
   ]
  },
  {
   "cell_type": "code",
   "execution_count": 17,
   "id": "a2ae6bd3",
   "metadata": {
    "execution": {
     "iopub.execute_input": "2022-12-21T08:45:14.161673Z",
     "iopub.status.busy": "2022-12-21T08:45:14.161325Z",
     "iopub.status.idle": "2022-12-21T08:45:14.184602Z",
     "shell.execute_reply": "2022-12-21T08:45:14.183160Z"
    },
    "papermill": {
     "duration": 0.036501,
     "end_time": "2022-12-21T08:45:14.187249",
     "exception": false,
     "start_time": "2022-12-21T08:45:14.150748",
     "status": "completed"
    },
    "tags": []
   },
   "outputs": [
    {
     "data": {
      "text/html": [
       "<div>\n",
       "<style scoped>\n",
       "    .dataframe tbody tr th:only-of-type {\n",
       "        vertical-align: middle;\n",
       "    }\n",
       "\n",
       "    .dataframe tbody tr th {\n",
       "        vertical-align: top;\n",
       "    }\n",
       "\n",
       "    .dataframe thead th {\n",
       "        text-align: right;\n",
       "    }\n",
       "</style>\n",
       "<table border=\"1\" class=\"dataframe\">\n",
       "  <thead>\n",
       "    <tr style=\"text-align: right;\">\n",
       "      <th></th>\n",
       "      <th>Breed</th>\n",
       "      <th>Country of Origin</th>\n",
       "      <th>Fur Color</th>\n",
       "      <th>Height (in)</th>\n",
       "      <th>Color of Eyes</th>\n",
       "      <th>Longevity (yrs)</th>\n",
       "      <th>bladder stones</th>\n",
       "      <th>dental problems</th>\n",
       "      <th>breathing problems</th>\n",
       "      <th>eye issues</th>\n",
       "      <th>...</th>\n",
       "      <th>sensitive</th>\n",
       "      <th>energetic</th>\n",
       "      <th>charming</th>\n",
       "      <th>strong</th>\n",
       "      <th>athletic</th>\n",
       "      <th>kind</th>\n",
       "      <th>curious</th>\n",
       "      <th>calm</th>\n",
       "      <th>loyal</th>\n",
       "      <th>confident</th>\n",
       "    </tr>\n",
       "  </thead>\n",
       "  <tbody>\n",
       "    <tr>\n",
       "      <th>0</th>\n",
       "      <td>Labrador Retriever</td>\n",
       "      <td>Canada</td>\n",
       "      <td>Yellow, Black, Chocolate</td>\n",
       "      <td>21-24</td>\n",
       "      <td>Brown</td>\n",
       "      <td>10-12</td>\n",
       "      <td>0</td>\n",
       "      <td>0</td>\n",
       "      <td>0</td>\n",
       "      <td>0</td>\n",
       "      <td>...</td>\n",
       "      <td>0</td>\n",
       "      <td>1</td>\n",
       "      <td>0</td>\n",
       "      <td>0</td>\n",
       "      <td>0</td>\n",
       "      <td>0</td>\n",
       "      <td>0</td>\n",
       "      <td>0</td>\n",
       "      <td>1</td>\n",
       "      <td>0</td>\n",
       "    </tr>\n",
       "    <tr>\n",
       "      <th>1</th>\n",
       "      <td>German Shepherd</td>\n",
       "      <td>Germany</td>\n",
       "      <td>Black, Tan</td>\n",
       "      <td>22-26</td>\n",
       "      <td>Brown</td>\n",
       "      <td>7-10</td>\n",
       "      <td>0</td>\n",
       "      <td>0</td>\n",
       "      <td>0</td>\n",
       "      <td>0</td>\n",
       "      <td>...</td>\n",
       "      <td>0</td>\n",
       "      <td>0</td>\n",
       "      <td>0</td>\n",
       "      <td>0</td>\n",
       "      <td>0</td>\n",
       "      <td>0</td>\n",
       "      <td>0</td>\n",
       "      <td>0</td>\n",
       "      <td>1</td>\n",
       "      <td>1</td>\n",
       "    </tr>\n",
       "    <tr>\n",
       "      <th>9</th>\n",
       "      <td>Rottweiler</td>\n",
       "      <td>Germany</td>\n",
       "      <td>Black, Tan</td>\n",
       "      <td>22-27</td>\n",
       "      <td>Brown</td>\n",
       "      <td>8-10</td>\n",
       "      <td>0</td>\n",
       "      <td>0</td>\n",
       "      <td>0</td>\n",
       "      <td>0</td>\n",
       "      <td>...</td>\n",
       "      <td>0</td>\n",
       "      <td>0</td>\n",
       "      <td>0</td>\n",
       "      <td>1</td>\n",
       "      <td>0</td>\n",
       "      <td>0</td>\n",
       "      <td>0</td>\n",
       "      <td>0</td>\n",
       "      <td>1</td>\n",
       "      <td>1</td>\n",
       "    </tr>\n",
       "    <tr>\n",
       "      <th>11</th>\n",
       "      <td>Dachshund</td>\n",
       "      <td>Germany</td>\n",
       "      <td>Black, Tan</td>\n",
       "      <td>5-9</td>\n",
       "      <td>Brown, Blue</td>\n",
       "      <td>12-15</td>\n",
       "      <td>0</td>\n",
       "      <td>0</td>\n",
       "      <td>0</td>\n",
       "      <td>0</td>\n",
       "      <td>...</td>\n",
       "      <td>0</td>\n",
       "      <td>1</td>\n",
       "      <td>0</td>\n",
       "      <td>0</td>\n",
       "      <td>0</td>\n",
       "      <td>0</td>\n",
       "      <td>1</td>\n",
       "      <td>0</td>\n",
       "      <td>1</td>\n",
       "      <td>0</td>\n",
       "    </tr>\n",
       "  </tbody>\n",
       "</table>\n",
       "<p>4 rows × 48 columns</p>\n",
       "</div>"
      ],
      "text/plain": [
       "                 Breed Country of Origin                 Fur Color  \\\n",
       "0   Labrador Retriever            Canada  Yellow, Black, Chocolate   \n",
       "1      German Shepherd           Germany                Black, Tan   \n",
       "9           Rottweiler           Germany                Black, Tan   \n",
       "11           Dachshund           Germany                Black, Tan   \n",
       "\n",
       "   Height (in) Color of Eyes Longevity (yrs)  bladder stones  dental problems  \\\n",
       "0        21-24         Brown           10-12               0                0   \n",
       "1        22-26         Brown            7-10               0                0   \n",
       "9        22-27         Brown            8-10               0                0   \n",
       "11         5-9   Brown, Blue           12-15               0                0   \n",
       "\n",
       "    breathing problems  eye issues  ...  sensitive  energetic  charming  \\\n",
       "0                    0           0  ...          0          1         0   \n",
       "1                    0           0  ...          0          0         0   \n",
       "9                    0           0  ...          0          0         0   \n",
       "11                   0           0  ...          0          1         0   \n",
       "\n",
       "    strong  athletic  kind  curious  calm  loyal  confident  \n",
       "0        0         0     0        0     0      1          0  \n",
       "1        0         0     0        0     0      1          1  \n",
       "9        1         0     0        0     0      1          1  \n",
       "11       0         0     0        1     0      1          0  \n",
       "\n",
       "[4 rows x 48 columns]"
      ]
     },
     "execution_count": 17,
     "metadata": {},
     "output_type": "execute_result"
    }
   ],
   "source": [
    "loyal_no_spec_problems = all_dogs[(all_dogs[\"loyal\"] == 1)&\n",
    "                           (all_dogs[\"heart conditions\"] == 0) &\n",
    "                          (all_dogs[\"dental problems\"] == 0) &\n",
    "                          (all_dogs[\"skin allergies\"] == 0) &\n",
    "                          (all_dogs[\"eye problems\"] == 0)]\n",
    "\n",
    "loyal_no_spec_problems"
   ]
  },
  {
   "cell_type": "markdown",
   "id": "d708b6af",
   "metadata": {
    "papermill": {
     "duration": 0.009194,
     "end_time": "2022-12-21T08:45:14.206143",
     "exception": false,
     "start_time": "2022-12-21T08:45:14.196949",
     "status": "completed"
    },
    "tags": []
   },
   "source": [
    "<div style = \"float:right; margin-right:30px;\">\n",
    "    <img src=\"https://media.tenor.com/m7sj8Vb0DlsAAAAC/dogs-cute.gif\"></div>\n",
    "\n",
    "<div style=\"float:left;align:center;margin-right:10px;font-family:NewCenturySchoolbook;font-size:20px;display:inline-block;\"> Very well! <br> Now I'd like to <br>create a visualization <br> to see if there's any dependancy <br> between how big a dog is <br> and how long a dog lives </div>"
   ]
  },
  {
   "cell_type": "markdown",
   "id": "b1c39a63",
   "metadata": {
    "papermill": {
     "duration": 0.009253,
     "end_time": "2022-12-21T08:45:14.224676",
     "exception": false,
     "start_time": "2022-12-21T08:45:14.215423",
     "status": "completed"
    },
    "tags": []
   },
   "source": [
    "<div style=\"float:left;align:center;margin-right:10px;font-family:NewCenturySchoolbook;font-size:20px;display:inline-block;\">\n",
    "I'll filter the dogs by country, I'll study breeds from Germany</div>"
   ]
  },
  {
   "cell_type": "code",
   "execution_count": 18,
   "id": "8970f823",
   "metadata": {
    "execution": {
     "iopub.execute_input": "2022-12-21T08:45:14.245415Z",
     "iopub.status.busy": "2022-12-21T08:45:14.244808Z",
     "iopub.status.idle": "2022-12-21T08:45:14.251605Z",
     "shell.execute_reply": "2022-12-21T08:45:14.250354Z"
    },
    "papermill": {
     "duration": 0.020242,
     "end_time": "2022-12-21T08:45:14.254259",
     "exception": false,
     "start_time": "2022-12-21T08:45:14.234017",
     "status": "completed"
    },
    "tags": []
   },
   "outputs": [],
   "source": [
    "germ_dogs = all_dogs[all_dogs[\"Country of Origin\"] == \"Germany\"]"
   ]
  },
  {
   "cell_type": "code",
   "execution_count": 19,
   "id": "658579f6",
   "metadata": {
    "execution": {
     "iopub.execute_input": "2022-12-21T08:45:14.274637Z",
     "iopub.status.busy": "2022-12-21T08:45:14.274195Z",
     "iopub.status.idle": "2022-12-21T08:45:14.280590Z",
     "shell.execute_reply": "2022-12-21T08:45:14.279120Z"
    },
    "papermill": {
     "duration": 0.019518,
     "end_time": "2022-12-21T08:45:14.283174",
     "exception": false,
     "start_time": "2022-12-21T08:45:14.263656",
     "status": "completed"
    },
    "tags": []
   },
   "outputs": [],
   "source": [
    "germ_dogs = germ_dogs.rename(columns={\"Height (in)\": \"Height\"})"
   ]
  },
  {
   "cell_type": "code",
   "execution_count": 20,
   "id": "8764a18d",
   "metadata": {
    "execution": {
     "iopub.execute_input": "2022-12-21T08:45:14.304016Z",
     "iopub.status.busy": "2022-12-21T08:45:14.303584Z",
     "iopub.status.idle": "2022-12-21T08:45:14.311698Z",
     "shell.execute_reply": "2022-12-21T08:45:14.310048Z"
    },
    "papermill": {
     "duration": 0.021413,
     "end_time": "2022-12-21T08:45:14.314116",
     "exception": false,
     "start_time": "2022-12-21T08:45:14.292703",
     "status": "completed"
    },
    "tags": []
   },
   "outputs": [],
   "source": [
    "germ_dogs_copy = germ_dogs.copy()\n",
    "germ_dogs_copy['Longevity (yrs)'] = germ_dogs_copy['Longevity (yrs)'].apply(lambda x: (int(x.split('-')[0]) + int(x.split('-')[1])) / 2)"
   ]
  },
  {
   "cell_type": "code",
   "execution_count": 21,
   "id": "89a8ca54",
   "metadata": {
    "execution": {
     "iopub.execute_input": "2022-12-21T08:45:14.334207Z",
     "iopub.status.busy": "2022-12-21T08:45:14.333800Z",
     "iopub.status.idle": "2022-12-21T08:45:14.340932Z",
     "shell.execute_reply": "2022-12-21T08:45:14.339459Z"
    },
    "papermill": {
     "duration": 0.020318,
     "end_time": "2022-12-21T08:45:14.343660",
     "exception": false,
     "start_time": "2022-12-21T08:45:14.323342",
     "status": "completed"
    },
    "tags": []
   },
   "outputs": [],
   "source": [
    "germ_dogs_copy['Height'] = germ_dogs_copy['Height'].apply(lambda x: (int(x.split('-')[0]) + int(x.split('-')[1])) / 2)"
   ]
  },
  {
   "cell_type": "code",
   "execution_count": 22,
   "id": "0b84484b",
   "metadata": {
    "execution": {
     "iopub.execute_input": "2022-12-21T08:45:14.365455Z",
     "iopub.status.busy": "2022-12-21T08:45:14.364924Z",
     "iopub.status.idle": "2022-12-21T08:45:14.372418Z",
     "shell.execute_reply": "2022-12-21T08:45:14.370860Z"
    },
    "papermill": {
     "duration": 0.021487,
     "end_time": "2022-12-21T08:45:14.375149",
     "exception": false,
     "start_time": "2022-12-21T08:45:14.353662",
     "status": "completed"
    },
    "tags": []
   },
   "outputs": [],
   "source": [
    "sns.set(rc={\"axes.facecolor\":\"#F0E9D2\",\"figure.facecolor\":\"#F0E9D2\"})"
   ]
  },
  {
   "cell_type": "markdown",
   "id": "a51aae25",
   "metadata": {
    "papermill": {
     "duration": 0.009973,
     "end_time": "2022-12-21T08:45:14.394737",
     "exception": false,
     "start_time": "2022-12-21T08:45:14.384764",
     "status": "completed"
    },
    "tags": []
   },
   "source": [
    "# Plotting the data"
   ]
  },
  {
   "cell_type": "code",
   "execution_count": 23,
   "id": "796d4e00",
   "metadata": {
    "execution": {
     "iopub.execute_input": "2022-12-21T08:45:14.415773Z",
     "iopub.status.busy": "2022-12-21T08:45:14.415359Z",
     "iopub.status.idle": "2022-12-21T08:45:14.853207Z",
     "shell.execute_reply": "2022-12-21T08:45:14.851763Z"
    },
    "papermill": {
     "duration": 0.451709,
     "end_time": "2022-12-21T08:45:14.855910",
     "exception": false,
     "start_time": "2022-12-21T08:45:14.404201",
     "status": "completed"
    },
    "tags": []
   },
   "outputs": [
    {
     "data": {
      "image/png": "[encoded data removed]",
      "text/plain": [
       "<Figure size 720x576 with 2 Axes>"
      ]
     },
     "metadata": {},
     "output_type": "display_data"
    }
   ],
   "source": [
    "fig,ax = plt.subplots(figsize = (10,8))\n",
    "\n",
    "sns.set(rc={\"axes.facecolor\":\"#F0E9D2\",\"figure.facecolor\":\"#F0E9D2\"})\n",
    "\n",
    "# bar plot\n",
    "\n",
    "ax.bar(germ_dogs_copy[\"Breed\"], germ_dogs_copy[\"Longevity (yrs)\"], color=\"#678983\", label=\"Longevity\")\n",
    "plt.xticks(germ_dogs_copy[\"Breed\"], rotation = 45)\n",
    "ax.set_ylabel(\"Longevity\", size = 18, c = \"#678983\")\n",
    "\n",
    "# line plot\n",
    "\n",
    "\n",
    "ax1 = ax.twinx()\n",
    "\n",
    "ax1.set_ylabel(\"Height\",size = 18, c = \"#285430\" )\n",
    "ax1.tick_params(axis = \"y\",\n",
    "               colors = \"#285430\")    # setting color of the ticks and label as the line color\n",
    "\n",
    "ax1.plot(range(len(germ_dogs_copy)), germ_dogs_copy[\"Height\"],\n",
    "         color=\"#285430\",\n",
    "        marker = \"o\",\n",
    "        label = \"Height\")\n",
    "\n",
    "#ax.set_xticklabels(germ_dogs_copy['Breed'], rotation=45)\n",
    "\n",
    "ax1.set_ylabel(\"Height\",size = 18, c = \"#285430\" )\n",
    "\n",
    "plt.title(\"Height and longevity of german breed dogs\", fontsize = 22, fontweight = \"bold\", fontname = \"Silom\", pad=20)\n",
    "\n",
    "\n",
    "# adding a legend\n",
    "long_patch = mpatches.Patch(color = \"#678983\", label='Longevity')\n",
    "height_line = mlines.Line2D([], [], color='#285430', label='Height', marker = \"o\")\n",
    "plt.legend(handles=[long_patch, height_line], loc='upper left')\n",
    "\n",
    "\n",
    "\n",
    "\n",
    "plt.show()  "
   ]
  },
  {
   "cell_type": "markdown",
   "id": "7b6e62a5",
   "metadata": {
    "papermill": {
     "duration": 0.009963,
     "end_time": "2022-12-21T08:45:14.876333",
     "exception": false,
     "start_time": "2022-12-21T08:45:14.866370",
     "status": "completed"
    },
    "tags": []
   },
   "source": [
    "# Regression"
   ]
  },
  {
   "cell_type": "markdown",
   "id": "b05727c8",
   "metadata": {
    "papermill": {
     "duration": 0.010025,
     "end_time": "2022-12-21T08:45:14.896591",
     "exception": false,
     "start_time": "2022-12-21T08:45:14.886566",
     "status": "completed"
    },
    "tags": []
   },
   "source": [
    "<div style=\"float:left;align:left;margin-left:10px;font-family:NewCenturySchoolbook;font-size:20px;\"> Looks like smaller dogs tend to live a bit longer. I'd like to do a linear regression analysis.</div>"
   ]
  },
  {
   "cell_type": "code",
   "execution_count": 24,
   "id": "6a6ab75d",
   "metadata": {
    "execution": {
     "iopub.execute_input": "2022-12-21T08:45:14.920327Z",
     "iopub.status.busy": "2022-12-21T08:45:14.919946Z",
     "iopub.status.idle": "2022-12-21T08:45:15.230115Z",
     "shell.execute_reply": "2022-12-21T08:45:15.229033Z"
    },
    "papermill": {
     "duration": 0.32567,
     "end_time": "2022-12-21T08:45:15.232684",
     "exception": false,
     "start_time": "2022-12-21T08:45:14.907014",
     "status": "completed"
    },
    "tags": []
   },
   "outputs": [
    {
     "data": {
      "image/png": "[encoded data removed]",
      "text/plain": [
       "<Figure size 720x576 with 1 Axes>"
      ]
     },
     "metadata": {},
     "output_type": "display_data"
    }
   ],
   "source": [
    "plt.figure(figsize=(10,8))\n",
    "\n",
    "sns.regplot(germ_dogs_copy[\"Longevity (yrs)\"], \n",
    "            germ_dogs_copy[\"Height\"], \n",
    "            scatter_kws={\"color\":\"#285430\"}, \n",
    "            line_kws={\"color\":\"#A12568\"})\n",
    "\n",
    "sns.set(rc={\"axes.facecolor\":\"#F0E9D2\",\"figure.facecolor\":\"#F0E9D2\"})\n",
    "\n",
    "plt.title(\"Height and longevity of german breed dogs\", \n",
    "          size = 22, \n",
    "          fontweight= \"bold\", \n",
    "          fontname=\"Oswald\", \n",
    "          c = \"#285430\")\n",
    "\n",
    "plt.suptitle(\"Linear regression analysis\", \n",
    "             fontname=\"Oswald\", \n",
    "             c = \"#285430\")\n",
    "\n",
    "plt.ylabel(\"Height in cm \",size = 18, c = \"#285430\")\n",
    "plt.xlabel(\"Longevity in years\", size = 18, c = \"#285430\")\n",
    "plt.xticks(c = \"#285430\", size = 14)\n",
    "plt.yticks(c = \"#285430\", size = 14)\n",
    "\n",
    "\n",
    "plt.grid(False)\n",
    "plt.show()"
   ]
  },
  {
   "cell_type": "markdown",
   "id": "c802d15f",
   "metadata": {
    "papermill": {
     "duration": 0.011604,
     "end_time": "2022-12-21T08:45:15.255593",
     "exception": false,
     "start_time": "2022-12-21T08:45:15.243989",
     "status": "completed"
    },
    "tags": []
   },
   "source": [
    "<div style=\"float:left;align:left;margin-left:10px;font-family:NewCenturySchoolbook;font-size:20px;\"> Just looking at the plot sometimes isn't enough, we can also calculate the correlation coefficient (r). </div>"
   ]
  },
  {
   "cell_type": "code",
   "execution_count": 25,
   "id": "ef3b685d",
   "metadata": {
    "execution": {
     "iopub.execute_input": "2022-12-21T08:45:15.283729Z",
     "iopub.status.busy": "2022-12-21T08:45:15.282988Z",
     "iopub.status.idle": "2022-12-21T08:45:15.291140Z",
     "shell.execute_reply": "2022-12-21T08:45:15.289138Z"
    },
    "papermill": {
     "duration": 0.026167,
     "end_time": "2022-12-21T08:45:15.293836",
     "exception": false,
     "start_time": "2022-12-21T08:45:15.267669",
     "status": "completed"
    },
    "tags": []
   },
   "outputs": [
    {
     "name": "stdout",
     "output_type": "stream",
     "text": [
      "-0.8430336741783675\n"
     ]
    }
   ],
   "source": [
    "\n",
    "# Extract the height and longevity columns\n",
    "height = germ_dogs_copy[\"Height\"]\n",
    "longevity = germ_dogs_copy[\"Longevity (yrs)\"]\n",
    "\n",
    "# Calculate the correlation coefficient\n",
    "r, p = pearsonr(height, longevity)\n",
    "\n",
    "\n",
    "print(r)"
   ]
  },
  {
   "cell_type": "markdown",
   "id": "4cc23154",
   "metadata": {
    "papermill": {
     "duration": 0.011746,
     "end_time": "2022-12-21T08:45:15.317309",
     "exception": false,
     "start_time": "2022-12-21T08:45:15.305563",
     "status": "completed"
    },
    "tags": []
   },
   "source": [
    "# Conclusion"
   ]
  },
  {
   "cell_type": "markdown",
   "id": "0caf86a6",
   "metadata": {
    "papermill": {
     "duration": 0.011707,
     "end_time": "2022-12-21T08:45:15.341039",
     "exception": false,
     "start_time": "2022-12-21T08:45:15.329332",
     "status": "completed"
    },
    "tags": []
   },
   "source": [
    "<div style=\"float:left;align:left;margin-left:10px;font-family:NewCenturySchoolbook;font-size:20px;\">Our correlation coefficient is equal to -0.8430336741783675 which indicates strong negative correlation.\n",
    "\n",
    "Based on the data and this analysis we can say that for the breeds mentioned in the dataset and the data provided, there's a strong correlation between height and longevity suggesting that smaller dogs on average tend to live longer.</div>"
   ]
  }
 ],
 "metadata": {
  "kernelspec": {
   "display_name": "Python 3 (ipykernel)",
   "language": "python",
   "name": "python3"
  },
  "language_info": {
   "codemirror_mode": {
    "name": "ipython",
    "version": 3
   },
   "file_extension": ".py",
   "mimetype": "text/x-python",
   "name": "python",
   "nbconvert_exporter": "python",
   "pygments_lexer": "ipython3",
   "version": "3.13.0"
  },
  "papermill": {
   "default_parameters": {},
   "duration": 14.021372,
   "end_time": "2022-12-21T08:45:16.176595",
   "environment_variables": {},
   "exception": null,
   "input_path": "__notebook__.ipynb",
   "output_path": "__notebook__.ipynb",
   "parameters": {},
   "start_time": "2022-12-21T08:45:02.155223",
   "version": "2.3.4"
  }
 },
 "nbformat": 4,
 "nbformat_minor": 5
}
